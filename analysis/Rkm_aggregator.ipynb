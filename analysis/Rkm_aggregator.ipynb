{
 "cells": [
  {
   "cell_type": "code",
   "execution_count": 1,
   "metadata": {
    "collapsed": true
   },
   "outputs": [],
   "source": [
    "import csv\n",
    "import numpy as np\n",
    "import matplotlib.pyplot as plt\n",
    "import pandas as pd\n",
    "\n",
    "with open('rkm_aggtest2.csv', newline='') as f:\n",
    "    data = [row for row in csv.DictReader(f)] #read excel into a dictionary\n",
    "with open('lj2010_cleaned.csv', newline='') as f:\n",
    "    data2 = [row for row in csv.DictReader(f)] \n",
    "with open('lj2012_July.csv', newline='') as f:\n",
    "    data3 = [row for row in csv.DictReader(f)] \n",
    "with open('lj2014_July.csv', newline='') as f:\n",
    "    data4 = [row for row in csv.DictReader(f)] \n",
    "    \n",
    "for x in data:\n",
    "    x['rkm']  = float(x['rkm'])\n",
    "    x['size'] = float(x['size'])\n",
    "for x in data2:\n",
    "    x['rkm']  = float(x['rkm'])\n",
    "    x['size'] = float(x['size'])\n",
    "for x in data3:\n",
    "    x['rkm']  = float(x['rkm'])\n",
    "    x['size'] = float(x['size'])\n",
    "for x in data4:\n",
    "    x['rkm']  = float(x['rkm'])\n",
    "    x['size'] = float(x['size'])"
   ]
  },
  {
   "cell_type": "code",
   "execution_count": 2,
   "metadata": {},
   "outputs": [
    {
     "name": "stdout",
     "output_type": "stream",
     "text": [
      "unique types are: ['a']\n"
     ]
    }
   ],
   "source": [
    "#unique_types = list(set([x['type'] for x in data])) \n",
    "unique_types = ['a']\n",
    "print('unique types are:',unique_types)\n",
    "\n",
    "#Breaks list of dictionaries into a dictionary in which each\n",
    "#key is a type of log jam and each value is a list of dictionaries\n",
    "#specifying each log jam of that type\n",
    "allsortedtypes = {}\n",
    "for y in unique_types:\n",
    "    allsortedtypes[y] = [x for x in data if x['type'] == y]\n",
    "#print(allsortedtypes, \"!!\")"
   ]
  },
  {
   "cell_type": "code",
   "execution_count": 3,
   "metadata": {
    "collapsed": true
   },
   "outputs": [],
   "source": [
    "# filters all logjam sizes between start and end for a given lj type\n",
    "def rkm_filter(ljtype, start, end, datal):\n",
    "    return [x for x in datal if start<=x['rkm'] and x['rkm'] < end\n",
    "             and x['type'] == ljtype]\n",
    "# output is a list of dictionaries    "
   ]
  },
  {
   "cell_type": "code",
   "execution_count": 4,
   "metadata": {
    "collapsed": true
   },
   "outputs": [],
   "source": [
    "# sums up logjam size and counts logjams by river break sections & by type\n",
    "spacing  = .5\n",
    "breaks = np.arange(0,25.5,spacing)\n",
    "test_type = 'a'\n",
    "\n",
    "def type_section_aggregator(o_breaks, o_type, datax , spacing):\n",
    "    o_location = []\n",
    "    o_totalsize = []\n",
    "    o_numberoflogjams = []\n",
    "    for i in range(len(o_breaks)-1):\n",
    "        p = rkm_filter(o_type ,o_breaks[i],o_breaks[i+1], datax)\n",
    "        tot = 0\n",
    "        for j in p:\n",
    "            tot = tot + j.get('size')\n",
    "        o_location.append(o_breaks[i+1]+spacing)\n",
    "        o_totalsize.append(tot)\n",
    "        o_numberoflogjams.append(len(p))\n",
    "    return(o_type, o_location, o_totalsize, o_numberoflogjams)\n",
    "\n",
    "bar_width = spacing/4\n",
    "\n",
    "f = type_section_aggregator(breaks, test_type, data, 0)\n",
    "f2010 = type_section_aggregator(breaks, test_type, data2, bar_width)\n",
    "f2012 = type_section_aggregator(breaks, test_type, data3, 2*bar_width)\n",
    "f2014 = type_section_aggregator(breaks, test_type, data4, 3*bar_width)\n",
    "#print(breaks,f[1],f[2])\n"
   ]
  },
  {
   "cell_type": "code",
   "execution_count": 5,
   "metadata": {},
   "outputs": [
    {
     "data": {
      "image/png": "[encoded data removed]",
      "text/plain": [
       "<matplotlib.figure.Figure at 0x1a90b6417b8>"
      ]
     },
     "metadata": {},
     "output_type": "display_data"
    }
   ],
   "source": [
    "rects1 = plt.bar(f[1], f[2], bar_width,\n",
    "                 color='y',\n",
    "                 label='2001')\n",
    "\n",
    "rects2 = plt.bar(f2010[1] , f2010[2], bar_width,\n",
    "                 color='g',\n",
    "                 label='2010')\n",
    "\n",
    "rects3 = plt.bar(f2012[1] , f2012[2], bar_width,\n",
    "                 color='b',\n",
    "                 label='2012')\n",
    "\n",
    "rects4 = plt.bar(f2014[1] , f2014[2], bar_width,\n",
    "                 color='k',\n",
    "                 label='2014')\n",
    "\n",
    "\n",
    "plt.xlabel('rkm')\n",
    "plt.ylabel('logjam area')\n",
    "plt.xlim(0,8)\n",
    "plt.title(' ')\n",
    "#plt.xticks(index + bar_width / 2, ('A', 'B', 'C', 'D', 'E'))\n",
    "plt.legend()\n",
    "\n",
    "plt.tight_layout()\n",
    "plt.show()"
   ]
  },
  {
   "cell_type": "code",
   "execution_count": 6,
   "metadata": {},
   "outputs": [
    {
     "name": "stdout",
     "output_type": "stream",
     "text": [
      "[0, 2.9, 7.4, 9.2, 12.1, 15.3, 21.1, 24.8] [2.9, 7.4, 9.2, 12.1, 15.3, 21.1, 24.8] [10916.779999999995, 1888.3400000000001, 0, 0, 0, 0, 0]\n"
     ]
    }
   ],
   "source": [
    "breaks6 = [0,2.9, 7.4,9.2,12.1,15.3,21.1,24.8]\n",
    "f6 = type_section_aggregator(breaks6, test_type, data, 0)\n",
    "f6_2010 = type_section_aggregator(breaks6, test_type, data2, bar_width)\n",
    "f6_2012 = type_section_aggregator(breaks6, test_type, data3, 2*bar_width)\n",
    "f6_2014 = type_section_aggregator(breaks6, test_type, data4, 3*bar_width)\n",
    "print(breaks6,f6[1],f6[2])\n"
   ]
  },
  {
   "cell_type": "code",
   "execution_count": 7,
   "metadata": {},
   "outputs": [
    {
     "data": {
      "image/png": "[encoded data removed]",
      "text/plain": [
       "<matplotlib.figure.Figure at 0x1a90bd6fbe0>"
      ]
     },
     "metadata": {},
     "output_type": "display_data"
    }
   ],
   "source": [
    "a = f6[2]\n",
    "b = f6_2010[2]\n",
    "c = f6_2012[2]\n",
    "d =f6_2014[2]\n",
    "e = ['LR1','LR2','ALD1', 'ALD2','MR1','MR2','MILLS']\n",
    "\n",
    "y_pos = np.arange(7)\n",
    "bw = .2\n",
    "\n",
    "rects1 = plt.bar(y_pos, a, bw, color='y', label='2001')\n",
    "rects2 = plt.bar(y_pos + bw, b, bw, color='g', label='2010')\n",
    "rects3 = plt.bar(y_pos + 2*bw, c, bw, color='b', label='2012')\n",
    "rects4 = plt.bar(y_pos + 3*bw, d, bw, color='k', label='2014')\n",
    "\n",
    "plt.xticks(y_pos + bw, e, rotation = 0)\n",
    "plt.legend()\n",
    "plt.ylabel('logjam area')\n",
    "plt.xlabel('river reach')\n",
    "plt.tight_layout()\n",
    "plt.show()"
   ]
  },
  {
   "cell_type": "code",
   "execution_count": null,
   "metadata": {
    "collapsed": true
   },
   "outputs": [],
   "source": []
  },
  {
   "cell_type": "code",
   "execution_count": 8,
   "metadata": {},
   "outputs": [
    {
     "name": "stdout",
     "output_type": "stream",
     "text": [
      "[0.5, 1.0, 1.5, 2.0, 2.5, 3.0, 3.5, 4.0, 4.5, 5.0, 5.5, 6.0, 6.5, 7.0, 7.5, 8.0, 8.5, 9.0, 9.5, 10.0, 10.5, 11.0, 11.5, 12.0, 12.5, 13.0, 13.5, 14.0, 14.5, 15.0, 15.5, 16.0, 16.5, 17.0, 17.5, 18.0, 18.5, 19.0, 19.5, 20.0, 20.5, 21.0, 21.5, 22.0, 22.5, 23.0, 23.5, 24.0, 24.5, 25.0]\n",
      "[ 5.2  5.7  6.2  6.7  7.2  7.7]\n",
      "[0.75, 1.25, 1.75, 2.25, 2.75, 3.25, 3.75, 4.25, 4.75, 5.25, 5.75, 6.25, 6.75, 7.25, 7.75, 8.25, 8.75, 9.25, 9.75, 10.25, 10.75, 11.25, 11.75, 12.25, 12.75, 13.25, 13.75, 14.25, 14.75, 15.25, 15.75, 16.25, 16.75, 17.25, 17.75, 18.25, 18.75, 19.25, 19.75, 20.25, 20.75, 21.25, 21.75, 22.25, 22.75, 23.25, 23.75, 24.25, 24.75, 25.25]\n"
     ]
    }
   ],
   "source": [
    "print(f[1])\n",
    "print(np.arange(5, 8, .5)+.2)\n",
    "print(f2012[1])\n"
   ]
  }
 ],
 "metadata": {
  "anaconda-cloud": {},
  "kernelspec": {
   "display_name": "Python 3",
   "language": "python",
   "name": "python3"
  },
  "language_info": {
   "codemirror_mode": {
    "name": "ipython",
    "version": 3
   },
   "file_extension": ".py",
   "mimetype": "text/x-python",
   "name": "python",
   "nbconvert_exporter": "python",
   "pygments_lexer": "ipython3",
   "version": "3.6.1"
  }
 },
 "nbformat": 4,
 "nbformat_minor": 1
}
