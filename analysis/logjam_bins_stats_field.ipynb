{
 "cells": [
  {
   "cell_type": "code",
   "execution_count": 1,
   "metadata": {},
   "outputs": [
    {
     "ename": "NameError",
     "evalue": "name 'rects1' is not defined",
     "output_type": "error",
     "traceback": [
      "\u001b[1;31m---------------------------------------------------------------------------\u001b[0m",
      "\u001b[1;31mNameError\u001b[0m                                 Traceback (most recent call last)",
      "\u001b[1;32m<ipython-input-1-f054ab38c4c8>\u001b[0m in \u001b[0;36m<module>\u001b[1;34m()\u001b[0m\n\u001b[0;32m     19\u001b[0m \u001b[0mnumberyears\u001b[0m\u001b[1;33m=\u001b[0m \u001b[1;33m[\u001b[0m\u001b[1;34m'2001'\u001b[0m\u001b[1;33m,\u001b[0m\u001b[1;34m'2010'\u001b[0m\u001b[1;33m,\u001b[0m\u001b[1;34m'2012'\u001b[0m\u001b[1;33m,\u001b[0m \u001b[1;34m'2014'\u001b[0m\u001b[1;33m]\u001b[0m\u001b[1;33m\u001b[0m\u001b[0m\n\u001b[0;32m     20\u001b[0m \u001b[0mcolors\u001b[0m \u001b[1;33m=\u001b[0m \u001b[1;33m[\u001b[0m\u001b[1;34m'y'\u001b[0m\u001b[1;33m,\u001b[0m\u001b[1;34m'g'\u001b[0m\u001b[1;33m,\u001b[0m\u001b[1;34m'b'\u001b[0m\u001b[1;33m,\u001b[0m\u001b[1;34m'k'\u001b[0m\u001b[1;33m]\u001b[0m\u001b[1;33m\u001b[0m\u001b[0m\n\u001b[1;32m---> 21\u001b[1;33m \u001b[0mPlotters\u001b[0m \u001b[1;33m=\u001b[0m \u001b[1;33m[\u001b[0m\u001b[0mrects1\u001b[0m\u001b[1;33m,\u001b[0m\u001b[0mrects2\u001b[0m\u001b[1;33m,\u001b[0m\u001b[0mrects3\u001b[0m\u001b[1;33m,\u001b[0m\u001b[0mrects4\u001b[0m\u001b[1;33m]\u001b[0m\u001b[1;33m\u001b[0m\u001b[0m\n\u001b[0m\u001b[0;32m     22\u001b[0m \u001b[0mBlotters\u001b[0m \u001b[1;33m=\u001b[0m \u001b[1;33m[\u001b[0m\u001b[0mrects1\u001b[0m\u001b[1;33m,\u001b[0m\u001b[0mrects2\u001b[0m\u001b[1;33m,\u001b[0m\u001b[0mrects3\u001b[0m\u001b[1;33m,\u001b[0m\u001b[0mrects4\u001b[0m\u001b[1;33m]\u001b[0m\u001b[1;33m\u001b[0m\u001b[0m\n\u001b[0;32m     23\u001b[0m \u001b[1;33m\u001b[0m\u001b[0m\n",
      "\u001b[1;31mNameError\u001b[0m: name 'rects1' is not defined"
     ]
    }
   ],
   "source": [
    "import csv\n",
    "import numpy as np\n",
    "import matplotlib.pyplot as plt\n",
    "import pandas as pd\n",
    "import statistics as st\n",
    "\n",
    "with open('Rkm_test.csv', newline='') as f:\n",
    "    data = [row for row in csv.DictReader(f)] #read csv into a dictionary\n",
    "with open('rkm_aggtest2.csv', newline='') as f:\n",
    "    data2001 = [row for row in csv.DictReader(f)] \n",
    "with open('lj2010_cleaned.csv', newline='') as f:\n",
    "    data2010 = [row for row in csv.DictReader(f)] \n",
    "with open('lj2012_July.csv', newline='') as f:\n",
    "    data2012 = [row for row in csv.DictReader(f)] \n",
    "with open('lj2014_July.csv', newline='') as f:\n",
    "    data2014 = [row for row in csv.DictReader(f)] \n",
    "\n",
    "Alldata = [data2001,data2010,data2012,data2014]\n",
    "numberyears= ['2001','2010','2012', '2014']\n",
    "colors = ['y','g','b','k']\n",
    "Plotters = [rects1,rects2,rects3,rects4]\n",
    "Blotters = [rects1,rects2,rects3,rects4]\n",
    "    \n",
    "def Floater(inputdata):\n",
    "    for x in inputdata:\n",
    "        x['rkm']  = float(x['rkm'])\n",
    "        x['size'] = float(x['size'])\n",
    "    return(inputdata)\n",
    "\n",
    "for J in range (len(Alldata)):\n",
    "    Floater (Alldata[J])\n",
    "#print (data2001)"
   ]
  },
  {
   "cell_type": "code",
   "execution_count": null,
   "metadata": {
    "collapsed": true
   },
   "outputs": [],
   "source": [
    "# returns list of all logjam sizes between point 1 and point 2\n",
    "def isitbtwpnt1_pnt2(pnt1, pnt2, all_ljs):\n",
    "    return [x['size'] for x in all_ljs if pnt1 <x['rkm'] and x['rkm'] <= pnt2]\n",
    "#print(isitbtwpnt1_pnt2(2,5,data))"
   ]
  },
  {
   "cell_type": "code",
   "execution_count": null,
   "metadata": {
    "collapsed": true
   },
   "outputs": [],
   "source": [
    "# bin all logjams into breakpoints\n",
    "# return list of lists of all logjams sizes <= to each break point\n",
    "# breakpoints have [0,a,b,c], will return lists of sizes in 0 to a, a to b, b to c\n",
    "def binerator(breakptns, alldata):\n",
    "    logjamlist_o_lists = []\n",
    "    cumulative_ljs_bybin = []\n",
    "    num_ljs_bybin = []\n",
    "    median_ljs_bybin = []\n",
    "    for i in range(len(breakptns)-1):\n",
    "        logjamlist_o_lists.append(isitbtwpnt1_pnt2(breakptns[i],breakptns[i+1], alldata))\n",
    "        cumulative_ljs_bybin.append(sum(isitbtwpnt1_pnt2(breakptns[i],breakptns[i+1], alldata)))\n",
    "        num_ljs_bybin.append(len(logjamlist_o_lists[i]))\n",
    "        if logjamlist_o_lists[i] == []:\n",
    "            median_ljs_bybin.append(0)\n",
    "        else:\n",
    "            median_ljs_bybin.append(st.median(logjamlist_o_lists[i]))\n",
    "    return(logjamlist_o_lists, cumulative_ljs_bybin, num_ljs_bybin, median_ljs_bybin)"
   ]
  },
  {
   "cell_type": "code",
   "execution_count": null,
   "metadata": {},
   "outputs": [],
   "source": [
    "# calculates and graphs total logjam area for each kilometer along the river's length.\n",
    "rkm1kmbreaks = np.arange(0,25.5,1)\n",
    "y_pos = np.arange(0,25,1)\n",
    "rkmHalfkmbreaks = np.arange(0,25.5,0.5)\n",
    "y_posHalf = np.arange(0,25,0.5)\n",
    "\n",
    "bar_width = 1/(1+len (Blotters))\n",
    "for i in range(len(Plotters)):\n",
    "    Blotters [i] = plt.bar (y_pos + (i+0.5)*bar_width, binerator(rkm1kmbreaks,Alldata[i])[1], \n",
    "        bar_width, color=colors[i], label=numberyears[i])\n",
    "plt.xlabel('rkm [km]')\n",
    "plt.ylabel('logjam area [$m^ 2 $]')\n",
    "plt.xlim(0,7.2)\n",
    "plt.title('Logjam area every 1 rkm')\n",
    "plt.legend()\n",
    "plt.tight_layout()\n",
    "plt.show()\n",
    "\n",
    "bar_widthHalf = 0.5/(1+len (Blotters))\n",
    "for i in range(len(Plotters)):\n",
    "    Blotters [i] = plt.bar (y_posHalf + (i+0.5)*bar_widthHalf, binerator(rkmHalfkmbreaks,Alldata[i])[1], \n",
    "        bar_widthHalf, color=colors[i], label=numberyears[i])\n",
    "plt.xlabel('rkm [km]')\n",
    "plt.ylabel('logjam area [$m^ 2 $]')\n",
    "plt.xlim(0,7.2)\n",
    "plt.title('Logjam area every 0.5 rkm')\n",
    "plt.legend()\n",
    "plt.tight_layout()\n",
    "plt.show()\n",
    "\n",
    "for i in range(len(Plotters)):\n",
    "    Blotters [i] = plt.bar (y_pos + (i+0.5)*bar_width, binerator(rkm1kmbreaks,Alldata[i])[1], \n",
    "        bar_width, color=colors[i], label=numberyears[i])\n",
    "plt.xlabel('rkm [km]')\n",
    "plt.ylabel('logjam area [$m^ 2 $]')\n",
    "plt.xlim(0,25.5)\n",
    "plt.title('Logjam area every 1 rkm')\n",
    "plt.legend()\n",
    "plt.tight_layout()\n",
    "plt.show()"
   ]
  },
  {
   "cell_type": "code",
   "execution_count": null,
   "metadata": {},
   "outputs": [],
   "source": [
    "# for geomorphic breakpoints, calculates and graphs total logjam area, number of logjams, \n",
    "#and median logjam size.\n",
    "geomorphicbreaks = [0,2.9, 7.4, 9.2, 12.1, 15.3, 21.1, 24.8]\n",
    "geomorphicbreaklabels= ['LR1','LR2','ALD1','ALD2','MR1','MR2','MILLS']\n",
    "\n",
    "bar_width = 1/(1+len (Plotters))\n",
    "y_pos = np.arange(len(geomorphicbreaklabels))\n",
    "#Logjam area by section  = binerator(testbreaks,data)[1]\n",
    "for i in range(len(Plotters)):\n",
    "    Plotters [i] = plt.bar (y_pos + i*bar_width, binerator(geomorphicbreaks,Alldata[i])[1], bar_width, \n",
    "                       color=colors[i], label=numberyears[i])\n",
    "plt.xticks(y_pos + bar_width, geomorphicbreaklabels, rotation = 0)\n",
    "plt.legend()\n",
    "plt.ylabel('Logjam Area [$m^2$]')\n",
    "plt.xlabel('River Reach')\n",
    "plt.tight_layout()\n",
    "plt.title('Logjam Area by Section')\n",
    "plt.show()\n",
    "\n",
    "#numberlogjams = binerator(testbreaks,data)[2]\n",
    "for i in range(len(Plotters)):\n",
    "    Plotters [i] = plt.bar (y_pos + i*bar_width, binerator(geomorphicbreaks,Alldata[i])[2], bar_width, \n",
    "                       color=colors[i], label=numberyears[i])\n",
    "plt.xticks(y_pos + bar_width, geomorphicbreaklabels, rotation = 0)\n",
    "plt.legend()\n",
    "plt.ylabel('Number of logjams')\n",
    "plt.xlabel('River Reach')\n",
    "plt.tight_layout()\n",
    "plt.title('Number of Logjams by Section')\n",
    "plt.show()\n",
    "\n",
    "#medianlogjams= binerator (testbreaks,data)[3]\n",
    "for i in range(len(Plotters)):\n",
    "    Plotters [i] = plt.bar (y_pos + i*bar_width, binerator(geomorphicbreaks,Alldata[i])[3], bar_width, \n",
    "                       color=colors[i], label=numberyears[i])\n",
    "plt.xticks(y_pos + bar_width, geomorphicbreaklabels, rotation = 0)\n",
    "plt.legend()\n",
    "plt.ylabel('Median Logjam Size')\n",
    "plt.xlabel('River Reach')\n",
    "plt.tight_layout()\n",
    "plt.title('Median Logjam Size')\n",
    "plt.show()"
   ]
  },
  {
   "cell_type": "code",
   "execution_count": null,
   "metadata": {
    "collapsed": true
   },
   "outputs": [],
   "source": []
  }
 ],
 "metadata": {
  "kernelspec": {
   "display_name": "Python 3",
   "language": "python",
   "name": "python3"
  },
  "language_info": {
   "codemirror_mode": {
    "name": "ipython",
    "version": 3
   },
   "file_extension": ".py",
   "mimetype": "text/x-python",
   "name": "python",
   "nbconvert_exporter": "python",
   "pygments_lexer": "ipython3",
   "version": "3.6.1"
  }
 },
 "nbformat": 4,
 "nbformat_minor": 2
}
