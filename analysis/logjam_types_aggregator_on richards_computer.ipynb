{
 "cells": [
  {
   "cell_type": "code",
   "execution_count": 1,
   "metadata": {},
   "outputs": [
    {
     "name": "stdout",
     "output_type": "stream",
     "text": [
      "[{'rkm': 2.0, 'type': 'Bar Apex', 'size': 2.2}, {'rkm': 3.0, 'type': 'Bar Apex', 'size': 5.0}, {'rkm': 5.0, 'type': 'Channel Spanning', 'size': 1.0}, {'rkm': 9.0, 'type': 'Bar Apex', 'size': 10.0}]\n"
     ]
    }
   ],
   "source": [
    "import csv\n",
    "import numpy as np\n",
    "\n",
    "#with open('Rkm_test.csv', newline='') as f:\n",
    "with open('Rkm_test.csv') as f:\n",
    "    data = [row for row in csv.DictReader(f)] #read excel into a dictionary\n",
    "    \n",
    "#convert into numbers\n",
    "for x in data:\n",
    "    x['rkm']  = float(x['rkm'])\n",
    "    x['size'] = float(x['size'])\n",
    "    \n",
    "print(data)"
   ]
  },
  {
   "cell_type": "code",
   "execution_count": 2,
   "metadata": {},
   "outputs": [
    {
     "name": "stdout",
     "output_type": "stream",
     "text": [
      "('unique types are:', ['Bar Apex', 'Channel Spanning'])\n",
      "{'Bar Apex': [{'rkm': 2.0, 'type': 'Bar Apex', 'size': 2.2}, {'rkm': 3.0, 'type': 'Bar Apex', 'size': 5.0}, {'rkm': 9.0, 'type': 'Bar Apex', 'size': 10.0}], 'Channel Spanning': [{'rkm': 5.0, 'type': 'Channel Spanning', 'size': 1.0}]}\n"
     ]
    }
   ],
   "source": [
    "unique_types = list(set([x['type'] for x in data])) \n",
    "print('unique types are:',unique_types)\n",
    "\n",
    "#Breaks list of dictionaries into a dictionary in which each\n",
    "#key is a type of log jam and each value is a list of dictionaries\n",
    "#specifying each log jam of that type\n",
    "allsortedtypes = {}\n",
    "for y in unique_types:\n",
    "    allsortedtypes[y] = [x for x in data if x['type'] == y]\n",
    "print(allsortedtypes)"
   ]
  },
  {
   "cell_type": "code",
   "execution_count": 3,
   "metadata": {},
   "outputs": [
    {
     "name": "stdout",
     "output_type": "stream",
     "text": [
      "[{'rkm': 2.0, 'type': 'Bar Apex', 'size': 2.2}, {'rkm': 3.0, 'type': 'Bar Apex', 'size': 5.0}]\n"
     ]
    }
   ],
   "source": [
    "# filters all logjam sizes between start and end for a given lj type\n",
    "def rkm_filter(ljtype, start, end):\n",
    "    return [x for x in data if start<=x['rkm'] and x['rkm'] < end\n",
    "             and x['type'] == ljtype]\n",
    "d = rkm_filter('Bar Apex', 2, 6)\n",
    "# output is a list of dictionaries    \n",
    "print(d)"
   ]
  },
  {
   "cell_type": "code",
   "execution_count": 8,
   "metadata": {},
   "outputs": [
    {
     "name": "stdout",
     "output_type": "stream",
     "text": [
      "(['0 to 4', '4 to 10'], [7.2, 10.0], [2, 1])\n"
     ]
    }
   ],
   "source": [
    "# sums up logjam size and counts logjams by river break sections\n",
    "breaks = [0, 4,10]\n",
    "#breaks = np.arange(0,12.1,2)\n",
    "\n",
    "o_location = []\n",
    "o_totalsize = []\n",
    "o_numberoflogjams = []\n",
    "\n",
    "for i in range(len(breaks)-1):\n",
    "    p = rkm_filter('Bar Apex',breaks[i],breaks[i+1])\n",
    "    tot = 0\n",
    "    for j in p:\n",
    "        tot = tot + j.get('size')\n",
    "    o_location.append(str(breaks[i]) + ' to ' + str(breaks[i+1]))\n",
    "    o_totalsize.append(tot)\n",
    "    o_numberoflogjams.append(len(p))\n",
    "    \n",
    "print(o_location, o_totalsize, o_numberoflogjams)\n"
   ]
  },
  {
   "cell_type": "code",
   "execution_count": 5,
   "metadata": {},
   "outputs": [
    {
     "name": "stdout",
     "output_type": "stream",
     "text": [
      "3\n",
      "11\n",
      "3.66666666667\n",
      "4.0\n",
      "5\n",
      "2\n"
     ]
    }
   ],
   "source": [
    "f = [2,4, 5]\n",
    "print(len(f)) #lj counter\n",
    "print(sum(f))\n",
    "print(np.mean(f))\n",
    "print(np.median(f))\n",
    "print(np.max(f))\n",
    "print(np.min(f))"
   ]
  },
  {
   "cell_type": "code",
   "execution_count": 6,
   "metadata": {
    "collapsed": true
   },
   "outputs": [],
   "source": [
    "#a.sort(key = lambda x: x['rkm'])"
   ]
  }
 ],
 "metadata": {
  "anaconda-cloud": {},
  "kernelspec": {
   "display_name": "Python 3",
   "language": "python",
   "name": "python3"
  },
  "language_info": {
   "codemirror_mode": {
    "name": "ipython",
    "version": 3
   },
   "file_extension": ".py",
   "mimetype": "text/x-python",
   "name": "python",
   "nbconvert_exporter": "python",
   "pygments_lexer": "ipython3",
   "version": "3.6.1"
  }
 },
 "nbformat": 4,
 "nbformat_minor": 1
}
